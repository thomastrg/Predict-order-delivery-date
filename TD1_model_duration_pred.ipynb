{
 "cells": [
  {
   "cell_type": "markdown",
   "metadata": {},
   "source": [
    "# Import libraries"
   ]
  },
  {
   "cell_type": "code",
   "execution_count": 207,
   "metadata": {},
   "outputs": [],
   "source": [
    "import numpy as np\n",
    "import pandas as pd\n",
    "import matplotlib.pyplot as plt\n",
    "import seaborn as sns"
   ]
  },
  {
   "cell_type": "markdown",
   "metadata": {},
   "source": [
    "# Import Dataset"
   ]
  },
  {
   "cell_type": "code",
   "execution_count": 208,
   "metadata": {},
   "outputs": [],
   "source": [
    "df=pd.read_csv('logistique.csv')"
   ]
  },
  {
   "cell_type": "code",
   "execution_count": 209,
   "metadata": {
    "scrolled": true
   },
   "outputs": [
    {
     "data": {
      "text/html": [
       "<div>\n",
       "<style scoped>\n",
       "    .dataframe tbody tr th:only-of-type {\n",
       "        vertical-align: middle;\n",
       "    }\n",
       "\n",
       "    .dataframe tbody tr th {\n",
       "        vertical-align: top;\n",
       "    }\n",
       "\n",
       "    .dataframe thead th {\n",
       "        text-align: right;\n",
       "    }\n",
       "</style>\n",
       "<table border=\"1\" class=\"dataframe\">\n",
       "  <thead>\n",
       "    <tr style=\"text-align: right;\">\n",
       "      <th></th>\n",
       "      <th>datedecreationdecommande</th>\n",
       "      <th>providerservice_id</th>\n",
       "      <th>dateexpe</th>\n",
       "    </tr>\n",
       "  </thead>\n",
       "  <tbody>\n",
       "    <tr>\n",
       "      <th>0</th>\n",
       "      <td>2019-11-01 11:40:35.9930000</td>\n",
       "      <td>48</td>\n",
       "      <td>02/11/2019</td>\n",
       "    </tr>\n",
       "    <tr>\n",
       "      <th>1</th>\n",
       "      <td>2019-11-01 11:40:35.9700000</td>\n",
       "      <td>48</td>\n",
       "      <td>02/11/2019</td>\n",
       "    </tr>\n",
       "    <tr>\n",
       "      <th>2</th>\n",
       "      <td>2019-11-01 10:24:40.8930000</td>\n",
       "      <td>48</td>\n",
       "      <td>02/11/2019</td>\n",
       "    </tr>\n",
       "    <tr>\n",
       "      <th>3</th>\n",
       "      <td>2019-11-01 14:24:21.1770000</td>\n",
       "      <td>48</td>\n",
       "      <td>02/11/2019</td>\n",
       "    </tr>\n",
       "    <tr>\n",
       "      <th>4</th>\n",
       "      <td>2019-11-01 13:28:35.7900000</td>\n",
       "      <td>48</td>\n",
       "      <td>02/11/2019</td>\n",
       "    </tr>\n",
       "    <tr>\n",
       "      <th>...</th>\n",
       "      <td>...</td>\n",
       "      <td>...</td>\n",
       "      <td>...</td>\n",
       "    </tr>\n",
       "    <tr>\n",
       "      <th>572836</th>\n",
       "      <td>2019-12-16 06:12:25.2170000</td>\n",
       "      <td>48</td>\n",
       "      <td>17/12/2019</td>\n",
       "    </tr>\n",
       "    <tr>\n",
       "      <th>572837</th>\n",
       "      <td>2019-12-16 06:12:25.4630000</td>\n",
       "      <td>48</td>\n",
       "      <td>17/12/2019</td>\n",
       "    </tr>\n",
       "    <tr>\n",
       "      <th>572838</th>\n",
       "      <td>2019-12-15 22:32:36.3200000</td>\n",
       "      <td>48</td>\n",
       "      <td>17/12/2019</td>\n",
       "    </tr>\n",
       "    <tr>\n",
       "      <th>572839</th>\n",
       "      <td>2019-12-15 20:06:55.0670000</td>\n",
       "      <td>48</td>\n",
       "      <td>17/12/2019</td>\n",
       "    </tr>\n",
       "    <tr>\n",
       "      <th>572840</th>\n",
       "      <td>2019-12-15 19:17:10.1230000</td>\n",
       "      <td>48</td>\n",
       "      <td>17/12/2019</td>\n",
       "    </tr>\n",
       "  </tbody>\n",
       "</table>\n",
       "<p>572841 rows × 3 columns</p>\n",
       "</div>"
      ],
      "text/plain": [
       "           datedecreationdecommande  providerservice_id    dateexpe\n",
       "0       2019-11-01 11:40:35.9930000                  48  02/11/2019\n",
       "1       2019-11-01 11:40:35.9700000                  48  02/11/2019\n",
       "2       2019-11-01 10:24:40.8930000                  48  02/11/2019\n",
       "3       2019-11-01 14:24:21.1770000                  48  02/11/2019\n",
       "4       2019-11-01 13:28:35.7900000                  48  02/11/2019\n",
       "...                             ...                 ...         ...\n",
       "572836  2019-12-16 06:12:25.2170000                  48  17/12/2019\n",
       "572837  2019-12-16 06:12:25.4630000                  48  17/12/2019\n",
       "572838  2019-12-15 22:32:36.3200000                  48  17/12/2019\n",
       "572839  2019-12-15 20:06:55.0670000                  48  17/12/2019\n",
       "572840  2019-12-15 19:17:10.1230000                  48  17/12/2019\n",
       "\n",
       "[572841 rows x 3 columns]"
      ]
     },
     "execution_count": 209,
     "metadata": {},
     "output_type": "execute_result"
    }
   ],
   "source": [
    "df"
   ]
  },
  {
   "cell_type": "markdown",
   "metadata": {},
   "source": [
    "# Step 1 : Exploratory Data Analysis & Data Processing\n"
   ]
  },
  {
   "cell_type": "code",
   "execution_count": 210,
   "metadata": {},
   "outputs": [
    {
     "name": "stdout",
     "output_type": "stream",
     "text": [
      "The DataFrame contains 572841 lines and 3 columns\n"
     ]
    }
   ],
   "source": [
    "print('The DataFrame contains {} lines and {} columns'.format(df.shape[0],df.shape[1]))"
   ]
  },
  {
   "cell_type": "code",
   "execution_count": 211,
   "metadata": {},
   "outputs": [
    {
     "data": {
      "text/plain": [
       "datedecreationdecommande    object\n",
       "providerservice_id           int64\n",
       "dateexpe                    object\n",
       "dtype: object"
      ]
     },
     "execution_count": 211,
     "metadata": {},
     "output_type": "execute_result"
    }
   ],
   "source": [
    "df.dtypes # Dates are in str type and the provider_id is an integer"
   ]
  },
  {
   "cell_type": "code",
   "execution_count": 212,
   "metadata": {},
   "outputs": [
    {
     "data": {
      "text/plain": [
       "datedecreationdecommande    0\n",
       "providerservice_id          0\n",
       "dateexpe                    0\n",
       "dtype: int64"
      ]
     },
     "execution_count": 212,
     "metadata": {},
     "output_type": "execute_result"
    }
   ],
   "source": [
    "df.isnull().sum() # There is no null value"
   ]
  },
  {
   "cell_type": "code",
   "execution_count": 213,
   "metadata": {},
   "outputs": [],
   "source": [
    "df['datedecreationdecommande']=pd.to_datetime(df['datedecreationdecommande'])\n",
    "df['dateexpe']=pd.to_datetime(df['dateexpe'],format=\"%d/%m/%Y\")"
   ]
  },
  {
   "cell_type": "code",
   "execution_count": 214,
   "metadata": {},
   "outputs": [],
   "source": [
    "df=df[df['datedecreationdecommande'] < df['dateexpe']]\n",
    "# There are lines that have an expedition date ulterior to the creation date which is invalid data"
   ]
  },
  {
   "cell_type": "code",
   "execution_count": 215,
   "metadata": {},
   "outputs": [
    {
     "data": {
      "text/html": [
       "<div>\n",
       "<style scoped>\n",
       "    .dataframe tbody tr th:only-of-type {\n",
       "        vertical-align: middle;\n",
       "    }\n",
       "\n",
       "    .dataframe tbody tr th {\n",
       "        vertical-align: top;\n",
       "    }\n",
       "\n",
       "    .dataframe thead th {\n",
       "        text-align: right;\n",
       "    }\n",
       "</style>\n",
       "<table border=\"1\" class=\"dataframe\">\n",
       "  <thead>\n",
       "    <tr style=\"text-align: right;\">\n",
       "      <th></th>\n",
       "      <th>datedecreationdecommande</th>\n",
       "      <th>providerservice_id</th>\n",
       "      <th>dateexpe</th>\n",
       "    </tr>\n",
       "  </thead>\n",
       "  <tbody>\n",
       "    <tr>\n",
       "      <th>0</th>\n",
       "      <td>2019-11-01 11:40:35.993</td>\n",
       "      <td>48</td>\n",
       "      <td>2019-11-02</td>\n",
       "    </tr>\n",
       "    <tr>\n",
       "      <th>1</th>\n",
       "      <td>2019-11-01 11:40:35.970</td>\n",
       "      <td>48</td>\n",
       "      <td>2019-11-02</td>\n",
       "    </tr>\n",
       "    <tr>\n",
       "      <th>2</th>\n",
       "      <td>2019-11-01 10:24:40.893</td>\n",
       "      <td>48</td>\n",
       "      <td>2019-11-02</td>\n",
       "    </tr>\n",
       "    <tr>\n",
       "      <th>3</th>\n",
       "      <td>2019-11-01 14:24:21.177</td>\n",
       "      <td>48</td>\n",
       "      <td>2019-11-02</td>\n",
       "    </tr>\n",
       "    <tr>\n",
       "      <th>4</th>\n",
       "      <td>2019-11-01 13:28:35.790</td>\n",
       "      <td>48</td>\n",
       "      <td>2019-11-02</td>\n",
       "    </tr>\n",
       "    <tr>\n",
       "      <th>...</th>\n",
       "      <td>...</td>\n",
       "      <td>...</td>\n",
       "      <td>...</td>\n",
       "    </tr>\n",
       "    <tr>\n",
       "      <th>572836</th>\n",
       "      <td>2019-12-16 06:12:25.217</td>\n",
       "      <td>48</td>\n",
       "      <td>2019-12-17</td>\n",
       "    </tr>\n",
       "    <tr>\n",
       "      <th>572837</th>\n",
       "      <td>2019-12-16 06:12:25.463</td>\n",
       "      <td>48</td>\n",
       "      <td>2019-12-17</td>\n",
       "    </tr>\n",
       "    <tr>\n",
       "      <th>572838</th>\n",
       "      <td>2019-12-15 22:32:36.320</td>\n",
       "      <td>48</td>\n",
       "      <td>2019-12-17</td>\n",
       "    </tr>\n",
       "    <tr>\n",
       "      <th>572839</th>\n",
       "      <td>2019-12-15 20:06:55.067</td>\n",
       "      <td>48</td>\n",
       "      <td>2019-12-17</td>\n",
       "    </tr>\n",
       "    <tr>\n",
       "      <th>572840</th>\n",
       "      <td>2019-12-15 19:17:10.123</td>\n",
       "      <td>48</td>\n",
       "      <td>2019-12-17</td>\n",
       "    </tr>\n",
       "  </tbody>\n",
       "</table>\n",
       "<p>558333 rows × 3 columns</p>\n",
       "</div>"
      ],
      "text/plain": [
       "       datedecreationdecommande  providerservice_id   dateexpe\n",
       "0       2019-11-01 11:40:35.993                  48 2019-11-02\n",
       "1       2019-11-01 11:40:35.970                  48 2019-11-02\n",
       "2       2019-11-01 10:24:40.893                  48 2019-11-02\n",
       "3       2019-11-01 14:24:21.177                  48 2019-11-02\n",
       "4       2019-11-01 13:28:35.790                  48 2019-11-02\n",
       "...                         ...                 ...        ...\n",
       "572836  2019-12-16 06:12:25.217                  48 2019-12-17\n",
       "572837  2019-12-16 06:12:25.463                  48 2019-12-17\n",
       "572838  2019-12-15 22:32:36.320                  48 2019-12-17\n",
       "572839  2019-12-15 20:06:55.067                  48 2019-12-17\n",
       "572840  2019-12-15 19:17:10.123                  48 2019-12-17\n",
       "\n",
       "[558333 rows x 3 columns]"
      ]
     },
     "execution_count": 215,
     "metadata": {},
     "output_type": "execute_result"
    }
   ],
   "source": [
    "df"
   ]
  },
  {
   "cell_type": "markdown",
   "metadata": {},
   "source": [
    "# créer variable delay à partir de l'heure et fixer à minuit tout les autres pour différencier nuit et jour (target), \n",
    "Or categorize ID provider (we have 8 differents providers to distinct them between each other), the week of the year,  \n",
    "-\tthe month of the year  \n",
    "-\tthe day of the week (dt. day names)  \n",
    "-\tthe hour of the day ( then categorize day,night or afternoon)  \n",
    "-\tthe number of commands the day before in order to see if they have a lot of work at the moment  \n",
    "-\tGuess the total stock  \n",
    "\n"
   ]
  },
  {
   "cell_type": "code",
   "execution_count": 216,
   "metadata": {},
   "outputs": [],
   "source": [
    "df=df[df['dateexpe']>'2019-07-26'] # Removing data in 1980 which is considered as noise"
   ]
  },
  {
   "cell_type": "code",
   "execution_count": 217,
   "metadata": {
    "scrolled": true
   },
   "outputs": [
    {
     "name": "stdout",
     "output_type": "stream",
     "text": [
      "DatetimeIndex(['2019-11-02', '2019-11-04', '2019-11-05', '2019-11-06',\n",
      "               '2019-11-07', '2019-11-08', '2019-11-09', '2019-11-10',\n",
      "               '2019-11-11', '2019-11-12', '2019-11-13', '2019-11-14',\n",
      "               '2019-11-15', '2019-11-16', '2019-11-17', '2019-11-18',\n",
      "               '2019-11-19', '2019-11-21', '2019-11-20', '2019-11-22',\n",
      "               '2019-11-23', '2019-11-25', '2019-11-26', '2019-11-27',\n",
      "               '2019-11-28', '2019-11-29', '2019-11-30', '2019-12-01',\n",
      "               '2019-12-02', '2019-12-03', '2019-12-04', '2019-12-05',\n",
      "               '2019-12-06', '2019-12-07', '2019-12-08', '2019-12-09',\n",
      "               '2019-12-10', '2019-12-11', '2019-12-12', '2019-12-13',\n",
      "               '2019-12-14', '2019-12-15', '2019-12-16', '2019-12-17',\n",
      "               '2019-11-24'],\n",
      "              dtype='datetime64[ns]', name='dateexpe', freq=None)\n"
     ]
    },
    {
     "data": {
      "text/plain": [
       "45"
      ]
     },
     "execution_count": 217,
     "metadata": {},
     "output_type": "execute_result"
    }
   ],
   "source": [
    "print(pd.DatetimeIndex(df['dateexpe']).unique())\n",
    "len(pd.DatetimeIndex(df['dateexpe']).unique())\n",
    "#Here are dates on the Dataframe, we have 46 days of history"
   ]
  },
  {
   "cell_type": "code",
   "execution_count": 218,
   "metadata": {},
   "outputs": [],
   "source": [
    "df['delay_seconds']=(df['dateexpe']-df['datedecreationdecommande']).dt.total_seconds()"
   ]
  },
  {
   "cell_type": "code",
   "execution_count": 219,
   "metadata": {
    "scrolled": true
   },
   "outputs": [],
   "source": [
    "df['delay_days']=(df['dateexpe']-df['datedecreationdecommande']).dt.days"
   ]
  },
  {
   "cell_type": "code",
   "execution_count": 220,
   "metadata": {
    "scrolled": true
   },
   "outputs": [
    {
     "data": {
      "text/html": [
       "<div>\n",
       "<style scoped>\n",
       "    .dataframe tbody tr th:only-of-type {\n",
       "        vertical-align: middle;\n",
       "    }\n",
       "\n",
       "    .dataframe tbody tr th {\n",
       "        vertical-align: top;\n",
       "    }\n",
       "\n",
       "    .dataframe thead th {\n",
       "        text-align: right;\n",
       "    }\n",
       "</style>\n",
       "<table border=\"1\" class=\"dataframe\">\n",
       "  <thead>\n",
       "    <tr style=\"text-align: right;\">\n",
       "      <th></th>\n",
       "      <th>datedecreationdecommande</th>\n",
       "      <th>providerservice_id</th>\n",
       "      <th>dateexpe</th>\n",
       "      <th>delay_seconds</th>\n",
       "      <th>delay_days</th>\n",
       "    </tr>\n",
       "  </thead>\n",
       "  <tbody>\n",
       "    <tr>\n",
       "      <th>0</th>\n",
       "      <td>2019-11-01 11:40:35.993</td>\n",
       "      <td>48</td>\n",
       "      <td>2019-11-02</td>\n",
       "      <td>44364.007</td>\n",
       "      <td>0</td>\n",
       "    </tr>\n",
       "    <tr>\n",
       "      <th>1</th>\n",
       "      <td>2019-11-01 11:40:35.970</td>\n",
       "      <td>48</td>\n",
       "      <td>2019-11-02</td>\n",
       "      <td>44364.030</td>\n",
       "      <td>0</td>\n",
       "    </tr>\n",
       "    <tr>\n",
       "      <th>2</th>\n",
       "      <td>2019-11-01 10:24:40.893</td>\n",
       "      <td>48</td>\n",
       "      <td>2019-11-02</td>\n",
       "      <td>48919.107</td>\n",
       "      <td>0</td>\n",
       "    </tr>\n",
       "    <tr>\n",
       "      <th>3</th>\n",
       "      <td>2019-11-01 14:24:21.177</td>\n",
       "      <td>48</td>\n",
       "      <td>2019-11-02</td>\n",
       "      <td>34538.823</td>\n",
       "      <td>0</td>\n",
       "    </tr>\n",
       "    <tr>\n",
       "      <th>4</th>\n",
       "      <td>2019-11-01 13:28:35.790</td>\n",
       "      <td>48</td>\n",
       "      <td>2019-11-02</td>\n",
       "      <td>37884.210</td>\n",
       "      <td>0</td>\n",
       "    </tr>\n",
       "    <tr>\n",
       "      <th>...</th>\n",
       "      <td>...</td>\n",
       "      <td>...</td>\n",
       "      <td>...</td>\n",
       "      <td>...</td>\n",
       "      <td>...</td>\n",
       "    </tr>\n",
       "    <tr>\n",
       "      <th>572836</th>\n",
       "      <td>2019-12-16 06:12:25.217</td>\n",
       "      <td>48</td>\n",
       "      <td>2019-12-17</td>\n",
       "      <td>64054.783</td>\n",
       "      <td>0</td>\n",
       "    </tr>\n",
       "    <tr>\n",
       "      <th>572837</th>\n",
       "      <td>2019-12-16 06:12:25.463</td>\n",
       "      <td>48</td>\n",
       "      <td>2019-12-17</td>\n",
       "      <td>64054.537</td>\n",
       "      <td>0</td>\n",
       "    </tr>\n",
       "    <tr>\n",
       "      <th>572838</th>\n",
       "      <td>2019-12-15 22:32:36.320</td>\n",
       "      <td>48</td>\n",
       "      <td>2019-12-17</td>\n",
       "      <td>91643.680</td>\n",
       "      <td>1</td>\n",
       "    </tr>\n",
       "    <tr>\n",
       "      <th>572839</th>\n",
       "      <td>2019-12-15 20:06:55.067</td>\n",
       "      <td>48</td>\n",
       "      <td>2019-12-17</td>\n",
       "      <td>100384.933</td>\n",
       "      <td>1</td>\n",
       "    </tr>\n",
       "    <tr>\n",
       "      <th>572840</th>\n",
       "      <td>2019-12-15 19:17:10.123</td>\n",
       "      <td>48</td>\n",
       "      <td>2019-12-17</td>\n",
       "      <td>103369.877</td>\n",
       "      <td>1</td>\n",
       "    </tr>\n",
       "  </tbody>\n",
       "</table>\n",
       "<p>558333 rows × 5 columns</p>\n",
       "</div>"
      ],
      "text/plain": [
       "       datedecreationdecommande  providerservice_id   dateexpe  delay_seconds  \\\n",
       "0       2019-11-01 11:40:35.993                  48 2019-11-02      44364.007   \n",
       "1       2019-11-01 11:40:35.970                  48 2019-11-02      44364.030   \n",
       "2       2019-11-01 10:24:40.893                  48 2019-11-02      48919.107   \n",
       "3       2019-11-01 14:24:21.177                  48 2019-11-02      34538.823   \n",
       "4       2019-11-01 13:28:35.790                  48 2019-11-02      37884.210   \n",
       "...                         ...                 ...        ...            ...   \n",
       "572836  2019-12-16 06:12:25.217                  48 2019-12-17      64054.783   \n",
       "572837  2019-12-16 06:12:25.463                  48 2019-12-17      64054.537   \n",
       "572838  2019-12-15 22:32:36.320                  48 2019-12-17      91643.680   \n",
       "572839  2019-12-15 20:06:55.067                  48 2019-12-17     100384.933   \n",
       "572840  2019-12-15 19:17:10.123                  48 2019-12-17     103369.877   \n",
       "\n",
       "        delay_days  \n",
       "0                0  \n",
       "1                0  \n",
       "2                0  \n",
       "3                0  \n",
       "4                0  \n",
       "...            ...  \n",
       "572836           0  \n",
       "572837           0  \n",
       "572838           1  \n",
       "572839           1  \n",
       "572840           1  \n",
       "\n",
       "[558333 rows x 5 columns]"
      ]
     },
     "execution_count": 220,
     "metadata": {},
     "output_type": "execute_result"
    }
   ],
   "source": [
    "df"
   ]
  },
  {
   "cell_type": "code",
   "execution_count": 221,
   "metadata": {
    "scrolled": true
   },
   "outputs": [],
   "source": [
    "df['providerservice_id']=df['providerservice_id'].astype('category')\n",
    "## Encoding on provider_id to categorize the data "
   ]
  },
  {
   "cell_type": "markdown",
   "metadata": {},
   "source": [
    "### Visualize the evolution of sales"
   ]
  },
  {
   "cell_type": "code",
   "execution_count": 222,
   "metadata": {},
   "outputs": [],
   "source": [
    "df1=df.drop(['delay_seconds','delay_days','providerservice_id'],axis=1)"
   ]
  },
  {
   "cell_type": "code",
   "execution_count": 223,
   "metadata": {
    "scrolled": true
   },
   "outputs": [
    {
     "data": {
      "image/png": "[encoded data removed]",
      "text/plain": [
       "<Figure size 576x576 with 1 Axes>"
      ]
     },
     "metadata": {
      "needs_background": "light"
     },
     "output_type": "display_data"
    }
   ],
   "source": [
    "df1.groupby(['dateexpe']).count().plot(figsize=(8, 8))\n",
    "plt.xlabel(\"Date d'expédition\")\n",
    "plt.xticks()\n",
    "plt.ylabel(\"Nombre d'expédition\")\n",
    "plt.legend(['Nombre de commandes'])\n",
    "plt.title('Évolution des commandes selon le temps')\n",
    "plt.grid()"
   ]
  },
  {
   "cell_type": "markdown",
   "metadata": {},
   "source": [
    "## See number of commands by day and by provider"
   ]
  },
  {
   "cell_type": "code",
   "execution_count": 224,
   "metadata": {},
   "outputs": [],
   "source": [
    "df2=df.drop(['delay_seconds','delay_days'],axis=1)\n",
    "df2_grouped=df2.groupby(['dateexpe','providerservice_id']).count()"
   ]
  },
  {
   "cell_type": "code",
   "execution_count": 225,
   "metadata": {},
   "outputs": [],
   "source": [
    "provider_id_list=['5','7','16','20','21','42','48','92']\n",
    "legend_2=['Provider n°'+i for i in provider_id_list]"
   ]
  },
  {
   "cell_type": "code",
   "execution_count": 226,
   "metadata": {
    "scrolled": false
   },
   "outputs": [
    {
     "data": {
      "image/png": "[encoded data removed]",
      "text/plain": [
       "<Figure size 1440x1008 with 1 Axes>"
      ]
     },
     "metadata": {
      "needs_background": "light"
     },
     "output_type": "display_data"
    }
   ],
   "source": [
    "df2_grouped.unstack(level=-1).plot(figsize=(20, 14))\n",
    "plt.xlabel(\"Date d'expédition\")\n",
    "plt.xticks()\n",
    "plt.ylabel(\"Nombre d'expédition\")\n",
    "plt.legend(legend_2, prop={'size': 13})\n",
    "plt.title('Évolution des commandes selon le temps et le provider')\n",
    "plt.grid()"
   ]
  },
  {
   "cell_type": "code",
   "execution_count": 227,
   "metadata": {},
   "outputs": [
    {
     "name": "stdout",
     "output_type": "stream",
     "text": [
      "We can see that providers n°48 and 21 are the most occupied providers across time\n"
     ]
    }
   ],
   "source": [
    "print('We can see that providers n°48 and 21 are the most occupied providers across time')"
   ]
  },
  {
   "cell_type": "code",
   "execution_count": 228,
   "metadata": {
    "scrolled": true
   },
   "outputs": [
    {
     "data": {
      "text/plain": [
       "[48, 16, 21, 7, 92, 42, 20, 5]\n",
       "Categories (8, int64): [48, 16, 21, 7, 92, 42, 20, 5]"
      ]
     },
     "execution_count": 228,
     "metadata": {},
     "output_type": "execute_result"
    }
   ],
   "source": [
    "df['providerservice_id'].unique()"
   ]
  },
  {
   "cell_type": "markdown",
   "metadata": {},
   "source": [
    "### Process the data : We can't put Datetime in a model so let's divide the date into features"
   ]
  },
  {
   "cell_type": "code",
   "execution_count": 229,
   "metadata": {},
   "outputs": [],
   "source": [
    "df[\"year\"] = pd.to_datetime(df['datedecreationdecommande'],format='%Y/%m/%d').dt.year\n",
    "df[\"month\"] = pd.to_datetime(df['datedecreationdecommande'],format='%Y/%m/%d').dt.month\n",
    "df[\"day\"] = pd.to_datetime(df['datedecreationdecommande'],format='%Y/%m/%d').dt.day\n",
    "df[\"hour\"] = pd.to_datetime(df['datedecreationdecommande'],format='%Y/%m/%d %H:%M').dt.hour\n",
    "df[\"min\"] = pd.to_datetime(df['datedecreationdecommande'],format='%Y/%m/%d %H:%M').dt.minute"
   ]
  },
  {
   "cell_type": "code",
   "execution_count": 230,
   "metadata": {
    "scrolled": true
   },
   "outputs": [
    {
     "data": {
      "text/html": [
       "<div>\n",
       "<style scoped>\n",
       "    .dataframe tbody tr th:only-of-type {\n",
       "        vertical-align: middle;\n",
       "    }\n",
       "\n",
       "    .dataframe tbody tr th {\n",
       "        vertical-align: top;\n",
       "    }\n",
       "\n",
       "    .dataframe thead th {\n",
       "        text-align: right;\n",
       "    }\n",
       "</style>\n",
       "<table border=\"1\" class=\"dataframe\">\n",
       "  <thead>\n",
       "    <tr style=\"text-align: right;\">\n",
       "      <th></th>\n",
       "      <th>datedecreationdecommande</th>\n",
       "      <th>dateexpe</th>\n",
       "      <th>delay_seconds</th>\n",
       "      <th>delay_days</th>\n",
       "      <th>year</th>\n",
       "      <th>month</th>\n",
       "      <th>day</th>\n",
       "      <th>hour</th>\n",
       "      <th>min</th>\n",
       "      <th>isWeekend</th>\n",
       "      <th>...</th>\n",
       "      <th>day_of_week_5</th>\n",
       "      <th>day_of_week_6</th>\n",
       "      <th>providerservice_id_5</th>\n",
       "      <th>providerservice_id_7</th>\n",
       "      <th>providerservice_id_16</th>\n",
       "      <th>providerservice_id_20</th>\n",
       "      <th>providerservice_id_21</th>\n",
       "      <th>providerservice_id_42</th>\n",
       "      <th>providerservice_id_48</th>\n",
       "      <th>providerservice_id_92</th>\n",
       "    </tr>\n",
       "  </thead>\n",
       "  <tbody>\n",
       "    <tr>\n",
       "      <th>0</th>\n",
       "      <td>2019-11-01 11:40:35.993</td>\n",
       "      <td>2019-11-02</td>\n",
       "      <td>44364.007</td>\n",
       "      <td>0</td>\n",
       "      <td>2019</td>\n",
       "      <td>11</td>\n",
       "      <td>1</td>\n",
       "      <td>11</td>\n",
       "      <td>40</td>\n",
       "      <td>1</td>\n",
       "      <td>...</td>\n",
       "      <td>0</td>\n",
       "      <td>0</td>\n",
       "      <td>0</td>\n",
       "      <td>0</td>\n",
       "      <td>0</td>\n",
       "      <td>0</td>\n",
       "      <td>0</td>\n",
       "      <td>0</td>\n",
       "      <td>1</td>\n",
       "      <td>0</td>\n",
       "    </tr>\n",
       "    <tr>\n",
       "      <th>1</th>\n",
       "      <td>2019-11-01 11:40:35.970</td>\n",
       "      <td>2019-11-02</td>\n",
       "      <td>44364.030</td>\n",
       "      <td>0</td>\n",
       "      <td>2019</td>\n",
       "      <td>11</td>\n",
       "      <td>1</td>\n",
       "      <td>11</td>\n",
       "      <td>40</td>\n",
       "      <td>1</td>\n",
       "      <td>...</td>\n",
       "      <td>0</td>\n",
       "      <td>0</td>\n",
       "      <td>0</td>\n",
       "      <td>0</td>\n",
       "      <td>0</td>\n",
       "      <td>0</td>\n",
       "      <td>0</td>\n",
       "      <td>0</td>\n",
       "      <td>1</td>\n",
       "      <td>0</td>\n",
       "    </tr>\n",
       "    <tr>\n",
       "      <th>2</th>\n",
       "      <td>2019-11-01 10:24:40.893</td>\n",
       "      <td>2019-11-02</td>\n",
       "      <td>48919.107</td>\n",
       "      <td>0</td>\n",
       "      <td>2019</td>\n",
       "      <td>11</td>\n",
       "      <td>1</td>\n",
       "      <td>10</td>\n",
       "      <td>24</td>\n",
       "      <td>1</td>\n",
       "      <td>...</td>\n",
       "      <td>0</td>\n",
       "      <td>0</td>\n",
       "      <td>0</td>\n",
       "      <td>0</td>\n",
       "      <td>0</td>\n",
       "      <td>0</td>\n",
       "      <td>0</td>\n",
       "      <td>0</td>\n",
       "      <td>1</td>\n",
       "      <td>0</td>\n",
       "    </tr>\n",
       "    <tr>\n",
       "      <th>3</th>\n",
       "      <td>2019-11-01 14:24:21.177</td>\n",
       "      <td>2019-11-02</td>\n",
       "      <td>34538.823</td>\n",
       "      <td>0</td>\n",
       "      <td>2019</td>\n",
       "      <td>11</td>\n",
       "      <td>1</td>\n",
       "      <td>14</td>\n",
       "      <td>24</td>\n",
       "      <td>1</td>\n",
       "      <td>...</td>\n",
       "      <td>0</td>\n",
       "      <td>0</td>\n",
       "      <td>0</td>\n",
       "      <td>0</td>\n",
       "      <td>0</td>\n",
       "      <td>0</td>\n",
       "      <td>0</td>\n",
       "      <td>0</td>\n",
       "      <td>1</td>\n",
       "      <td>0</td>\n",
       "    </tr>\n",
       "    <tr>\n",
       "      <th>4</th>\n",
       "      <td>2019-11-01 13:28:35.790</td>\n",
       "      <td>2019-11-02</td>\n",
       "      <td>37884.210</td>\n",
       "      <td>0</td>\n",
       "      <td>2019</td>\n",
       "      <td>11</td>\n",
       "      <td>1</td>\n",
       "      <td>13</td>\n",
       "      <td>28</td>\n",
       "      <td>1</td>\n",
       "      <td>...</td>\n",
       "      <td>0</td>\n",
       "      <td>0</td>\n",
       "      <td>0</td>\n",
       "      <td>0</td>\n",
       "      <td>0</td>\n",
       "      <td>0</td>\n",
       "      <td>0</td>\n",
       "      <td>0</td>\n",
       "      <td>1</td>\n",
       "      <td>0</td>\n",
       "    </tr>\n",
       "    <tr>\n",
       "      <th>...</th>\n",
       "      <td>...</td>\n",
       "      <td>...</td>\n",
       "      <td>...</td>\n",
       "      <td>...</td>\n",
       "      <td>...</td>\n",
       "      <td>...</td>\n",
       "      <td>...</td>\n",
       "      <td>...</td>\n",
       "      <td>...</td>\n",
       "      <td>...</td>\n",
       "      <td>...</td>\n",
       "      <td>...</td>\n",
       "      <td>...</td>\n",
       "      <td>...</td>\n",
       "      <td>...</td>\n",
       "      <td>...</td>\n",
       "      <td>...</td>\n",
       "      <td>...</td>\n",
       "      <td>...</td>\n",
       "      <td>...</td>\n",
       "      <td>...</td>\n",
       "    </tr>\n",
       "    <tr>\n",
       "      <th>572836</th>\n",
       "      <td>2019-12-16 06:12:25.217</td>\n",
       "      <td>2019-12-17</td>\n",
       "      <td>64054.783</td>\n",
       "      <td>0</td>\n",
       "      <td>2019</td>\n",
       "      <td>12</td>\n",
       "      <td>16</td>\n",
       "      <td>6</td>\n",
       "      <td>12</td>\n",
       "      <td>1</td>\n",
       "      <td>...</td>\n",
       "      <td>0</td>\n",
       "      <td>0</td>\n",
       "      <td>0</td>\n",
       "      <td>0</td>\n",
       "      <td>0</td>\n",
       "      <td>0</td>\n",
       "      <td>0</td>\n",
       "      <td>0</td>\n",
       "      <td>1</td>\n",
       "      <td>0</td>\n",
       "    </tr>\n",
       "    <tr>\n",
       "      <th>572837</th>\n",
       "      <td>2019-12-16 06:12:25.463</td>\n",
       "      <td>2019-12-17</td>\n",
       "      <td>64054.537</td>\n",
       "      <td>0</td>\n",
       "      <td>2019</td>\n",
       "      <td>12</td>\n",
       "      <td>16</td>\n",
       "      <td>6</td>\n",
       "      <td>12</td>\n",
       "      <td>1</td>\n",
       "      <td>...</td>\n",
       "      <td>0</td>\n",
       "      <td>0</td>\n",
       "      <td>0</td>\n",
       "      <td>0</td>\n",
       "      <td>0</td>\n",
       "      <td>0</td>\n",
       "      <td>0</td>\n",
       "      <td>0</td>\n",
       "      <td>1</td>\n",
       "      <td>0</td>\n",
       "    </tr>\n",
       "    <tr>\n",
       "      <th>572838</th>\n",
       "      <td>2019-12-15 22:32:36.320</td>\n",
       "      <td>2019-12-17</td>\n",
       "      <td>91643.680</td>\n",
       "      <td>1</td>\n",
       "      <td>2019</td>\n",
       "      <td>12</td>\n",
       "      <td>15</td>\n",
       "      <td>22</td>\n",
       "      <td>32</td>\n",
       "      <td>0</td>\n",
       "      <td>...</td>\n",
       "      <td>0</td>\n",
       "      <td>1</td>\n",
       "      <td>0</td>\n",
       "      <td>0</td>\n",
       "      <td>0</td>\n",
       "      <td>0</td>\n",
       "      <td>0</td>\n",
       "      <td>0</td>\n",
       "      <td>1</td>\n",
       "      <td>0</td>\n",
       "    </tr>\n",
       "    <tr>\n",
       "      <th>572839</th>\n",
       "      <td>2019-12-15 20:06:55.067</td>\n",
       "      <td>2019-12-17</td>\n",
       "      <td>100384.933</td>\n",
       "      <td>1</td>\n",
       "      <td>2019</td>\n",
       "      <td>12</td>\n",
       "      <td>15</td>\n",
       "      <td>20</td>\n",
       "      <td>6</td>\n",
       "      <td>0</td>\n",
       "      <td>...</td>\n",
       "      <td>0</td>\n",
       "      <td>1</td>\n",
       "      <td>0</td>\n",
       "      <td>0</td>\n",
       "      <td>0</td>\n",
       "      <td>0</td>\n",
       "      <td>0</td>\n",
       "      <td>0</td>\n",
       "      <td>1</td>\n",
       "      <td>0</td>\n",
       "    </tr>\n",
       "    <tr>\n",
       "      <th>572840</th>\n",
       "      <td>2019-12-15 19:17:10.123</td>\n",
       "      <td>2019-12-17</td>\n",
       "      <td>103369.877</td>\n",
       "      <td>1</td>\n",
       "      <td>2019</td>\n",
       "      <td>12</td>\n",
       "      <td>15</td>\n",
       "      <td>19</td>\n",
       "      <td>17</td>\n",
       "      <td>0</td>\n",
       "      <td>...</td>\n",
       "      <td>0</td>\n",
       "      <td>1</td>\n",
       "      <td>0</td>\n",
       "      <td>0</td>\n",
       "      <td>0</td>\n",
       "      <td>0</td>\n",
       "      <td>0</td>\n",
       "      <td>0</td>\n",
       "      <td>1</td>\n",
       "      <td>0</td>\n",
       "    </tr>\n",
       "  </tbody>\n",
       "</table>\n",
       "<p>558333 rows × 25 columns</p>\n",
       "</div>"
      ],
      "text/plain": [
       "       datedecreationdecommande   dateexpe  delay_seconds  delay_days  year  \\\n",
       "0       2019-11-01 11:40:35.993 2019-11-02      44364.007           0  2019   \n",
       "1       2019-11-01 11:40:35.970 2019-11-02      44364.030           0  2019   \n",
       "2       2019-11-01 10:24:40.893 2019-11-02      48919.107           0  2019   \n",
       "3       2019-11-01 14:24:21.177 2019-11-02      34538.823           0  2019   \n",
       "4       2019-11-01 13:28:35.790 2019-11-02      37884.210           0  2019   \n",
       "...                         ...        ...            ...         ...   ...   \n",
       "572836  2019-12-16 06:12:25.217 2019-12-17      64054.783           0  2019   \n",
       "572837  2019-12-16 06:12:25.463 2019-12-17      64054.537           0  2019   \n",
       "572838  2019-12-15 22:32:36.320 2019-12-17      91643.680           1  2019   \n",
       "572839  2019-12-15 20:06:55.067 2019-12-17     100384.933           1  2019   \n",
       "572840  2019-12-15 19:17:10.123 2019-12-17     103369.877           1  2019   \n",
       "\n",
       "        month  day  hour  min  isWeekend  ...  day_of_week_5  day_of_week_6  \\\n",
       "0          11    1    11   40          1  ...              0              0   \n",
       "1          11    1    11   40          1  ...              0              0   \n",
       "2          11    1    10   24          1  ...              0              0   \n",
       "3          11    1    14   24          1  ...              0              0   \n",
       "4          11    1    13   28          1  ...              0              0   \n",
       "...       ...  ...   ...  ...        ...  ...            ...            ...   \n",
       "572836     12   16     6   12          1  ...              0              0   \n",
       "572837     12   16     6   12          1  ...              0              0   \n",
       "572838     12   15    22   32          0  ...              0              1   \n",
       "572839     12   15    20    6          0  ...              0              1   \n",
       "572840     12   15    19   17          0  ...              0              1   \n",
       "\n",
       "        providerservice_id_5  providerservice_id_7  providerservice_id_16  \\\n",
       "0                          0                     0                      0   \n",
       "1                          0                     0                      0   \n",
       "2                          0                     0                      0   \n",
       "3                          0                     0                      0   \n",
       "4                          0                     0                      0   \n",
       "...                      ...                   ...                    ...   \n",
       "572836                     0                     0                      0   \n",
       "572837                     0                     0                      0   \n",
       "572838                     0                     0                      0   \n",
       "572839                     0                     0                      0   \n",
       "572840                     0                     0                      0   \n",
       "\n",
       "        providerservice_id_20  providerservice_id_21  providerservice_id_42  \\\n",
       "0                           0                      0                      0   \n",
       "1                           0                      0                      0   \n",
       "2                           0                      0                      0   \n",
       "3                           0                      0                      0   \n",
       "4                           0                      0                      0   \n",
       "...                       ...                    ...                    ...   \n",
       "572836                      0                      0                      0   \n",
       "572837                      0                      0                      0   \n",
       "572838                      0                      0                      0   \n",
       "572839                      0                      0                      0   \n",
       "572840                      0                      0                      0   \n",
       "\n",
       "        providerservice_id_48  providerservice_id_92  \n",
       "0                           1                      0  \n",
       "1                           1                      0  \n",
       "2                           1                      0  \n",
       "3                           1                      0  \n",
       "4                           1                      0  \n",
       "...                       ...                    ...  \n",
       "572836                      1                      0  \n",
       "572837                      1                      0  \n",
       "572838                      1                      0  \n",
       "572839                      1                      0  \n",
       "572840                      1                      0  \n",
       "\n",
       "[558333 rows x 25 columns]"
      ]
     },
     "execution_count": 230,
     "metadata": {},
     "output_type": "execute_result"
    }
   ],
   "source": [
    "df['day_of_week'] = pd.to_datetime(df['datedecreationdecommande'],format='%Y/%m/%d %H:%M').dt.dayofweek\n",
    "# 0: Lundi --> 6 : Dimanche\n",
    "df[\"isWeekend\"] =  np.where(df[\"day_of_week\"] < 5, 1, 0)\n",
    "df = pd.get_dummies(data=df,columns=['day_of_week'])\n",
    "df = pd.get_dummies(data=df,columns=['providerservice_id'])"
   ]
  },
  {
   "cell_type": "code",
   "execution_count": 231,
   "metadata": {},
   "outputs": [],
   "source": [
    "df[\"isOnWorkShift\"] =  np.where((df[\"hour\"] <= 18) & (df[\"hour\"] >= 8), 1, 0)"
   ]
  },
  {
   "cell_type": "code",
   "execution_count": 232,
   "metadata": {},
   "outputs": [
    {
     "data": {
      "text/html": [
       "<div>\n",
       "<style scoped>\n",
       "    .dataframe tbody tr th:only-of-type {\n",
       "        vertical-align: middle;\n",
       "    }\n",
       "\n",
       "    .dataframe tbody tr th {\n",
       "        vertical-align: top;\n",
       "    }\n",
       "\n",
       "    .dataframe thead th {\n",
       "        text-align: right;\n",
       "    }\n",
       "</style>\n",
       "<table border=\"1\" class=\"dataframe\">\n",
       "  <thead>\n",
       "    <tr style=\"text-align: right;\">\n",
       "      <th></th>\n",
       "      <th>datedecreationdecommande</th>\n",
       "      <th>dateexpe</th>\n",
       "      <th>delay_seconds</th>\n",
       "      <th>delay_days</th>\n",
       "      <th>year</th>\n",
       "      <th>month</th>\n",
       "      <th>day</th>\n",
       "      <th>hour</th>\n",
       "      <th>min</th>\n",
       "      <th>isWeekend</th>\n",
       "      <th>...</th>\n",
       "      <th>day_of_week_6</th>\n",
       "      <th>providerservice_id_5</th>\n",
       "      <th>providerservice_id_7</th>\n",
       "      <th>providerservice_id_16</th>\n",
       "      <th>providerservice_id_20</th>\n",
       "      <th>providerservice_id_21</th>\n",
       "      <th>providerservice_id_42</th>\n",
       "      <th>providerservice_id_48</th>\n",
       "      <th>providerservice_id_92</th>\n",
       "      <th>isOnWorkShift</th>\n",
       "    </tr>\n",
       "  </thead>\n",
       "  <tbody>\n",
       "    <tr>\n",
       "      <th>0</th>\n",
       "      <td>2019-11-01 11:40:35.993</td>\n",
       "      <td>2019-11-02</td>\n",
       "      <td>44364.007</td>\n",
       "      <td>0</td>\n",
       "      <td>2019</td>\n",
       "      <td>11</td>\n",
       "      <td>1</td>\n",
       "      <td>11</td>\n",
       "      <td>40</td>\n",
       "      <td>1</td>\n",
       "      <td>...</td>\n",
       "      <td>0</td>\n",
       "      <td>0</td>\n",
       "      <td>0</td>\n",
       "      <td>0</td>\n",
       "      <td>0</td>\n",
       "      <td>0</td>\n",
       "      <td>0</td>\n",
       "      <td>1</td>\n",
       "      <td>0</td>\n",
       "      <td>1</td>\n",
       "    </tr>\n",
       "    <tr>\n",
       "      <th>1</th>\n",
       "      <td>2019-11-01 11:40:35.970</td>\n",
       "      <td>2019-11-02</td>\n",
       "      <td>44364.030</td>\n",
       "      <td>0</td>\n",
       "      <td>2019</td>\n",
       "      <td>11</td>\n",
       "      <td>1</td>\n",
       "      <td>11</td>\n",
       "      <td>40</td>\n",
       "      <td>1</td>\n",
       "      <td>...</td>\n",
       "      <td>0</td>\n",
       "      <td>0</td>\n",
       "      <td>0</td>\n",
       "      <td>0</td>\n",
       "      <td>0</td>\n",
       "      <td>0</td>\n",
       "      <td>0</td>\n",
       "      <td>1</td>\n",
       "      <td>0</td>\n",
       "      <td>1</td>\n",
       "    </tr>\n",
       "    <tr>\n",
       "      <th>2</th>\n",
       "      <td>2019-11-01 10:24:40.893</td>\n",
       "      <td>2019-11-02</td>\n",
       "      <td>48919.107</td>\n",
       "      <td>0</td>\n",
       "      <td>2019</td>\n",
       "      <td>11</td>\n",
       "      <td>1</td>\n",
       "      <td>10</td>\n",
       "      <td>24</td>\n",
       "      <td>1</td>\n",
       "      <td>...</td>\n",
       "      <td>0</td>\n",
       "      <td>0</td>\n",
       "      <td>0</td>\n",
       "      <td>0</td>\n",
       "      <td>0</td>\n",
       "      <td>0</td>\n",
       "      <td>0</td>\n",
       "      <td>1</td>\n",
       "      <td>0</td>\n",
       "      <td>1</td>\n",
       "    </tr>\n",
       "    <tr>\n",
       "      <th>3</th>\n",
       "      <td>2019-11-01 14:24:21.177</td>\n",
       "      <td>2019-11-02</td>\n",
       "      <td>34538.823</td>\n",
       "      <td>0</td>\n",
       "      <td>2019</td>\n",
       "      <td>11</td>\n",
       "      <td>1</td>\n",
       "      <td>14</td>\n",
       "      <td>24</td>\n",
       "      <td>1</td>\n",
       "      <td>...</td>\n",
       "      <td>0</td>\n",
       "      <td>0</td>\n",
       "      <td>0</td>\n",
       "      <td>0</td>\n",
       "      <td>0</td>\n",
       "      <td>0</td>\n",
       "      <td>0</td>\n",
       "      <td>1</td>\n",
       "      <td>0</td>\n",
       "      <td>1</td>\n",
       "    </tr>\n",
       "    <tr>\n",
       "      <th>4</th>\n",
       "      <td>2019-11-01 13:28:35.790</td>\n",
       "      <td>2019-11-02</td>\n",
       "      <td>37884.210</td>\n",
       "      <td>0</td>\n",
       "      <td>2019</td>\n",
       "      <td>11</td>\n",
       "      <td>1</td>\n",
       "      <td>13</td>\n",
       "      <td>28</td>\n",
       "      <td>1</td>\n",
       "      <td>...</td>\n",
       "      <td>0</td>\n",
       "      <td>0</td>\n",
       "      <td>0</td>\n",
       "      <td>0</td>\n",
       "      <td>0</td>\n",
       "      <td>0</td>\n",
       "      <td>0</td>\n",
       "      <td>1</td>\n",
       "      <td>0</td>\n",
       "      <td>1</td>\n",
       "    </tr>\n",
       "    <tr>\n",
       "      <th>5</th>\n",
       "      <td>2019-11-01 19:40:04.200</td>\n",
       "      <td>2019-11-02</td>\n",
       "      <td>15595.800</td>\n",
       "      <td>0</td>\n",
       "      <td>2019</td>\n",
       "      <td>11</td>\n",
       "      <td>1</td>\n",
       "      <td>19</td>\n",
       "      <td>40</td>\n",
       "      <td>1</td>\n",
       "      <td>...</td>\n",
       "      <td>0</td>\n",
       "      <td>0</td>\n",
       "      <td>0</td>\n",
       "      <td>0</td>\n",
       "      <td>0</td>\n",
       "      <td>0</td>\n",
       "      <td>0</td>\n",
       "      <td>1</td>\n",
       "      <td>0</td>\n",
       "      <td>0</td>\n",
       "    </tr>\n",
       "    <tr>\n",
       "      <th>6</th>\n",
       "      <td>2019-11-01 06:16:55.883</td>\n",
       "      <td>2019-11-02</td>\n",
       "      <td>63784.117</td>\n",
       "      <td>0</td>\n",
       "      <td>2019</td>\n",
       "      <td>11</td>\n",
       "      <td>1</td>\n",
       "      <td>6</td>\n",
       "      <td>16</td>\n",
       "      <td>1</td>\n",
       "      <td>...</td>\n",
       "      <td>0</td>\n",
       "      <td>0</td>\n",
       "      <td>0</td>\n",
       "      <td>0</td>\n",
       "      <td>0</td>\n",
       "      <td>0</td>\n",
       "      <td>0</td>\n",
       "      <td>1</td>\n",
       "      <td>0</td>\n",
       "      <td>0</td>\n",
       "    </tr>\n",
       "    <tr>\n",
       "      <th>7</th>\n",
       "      <td>2019-11-01 18:42:10.033</td>\n",
       "      <td>2019-11-02</td>\n",
       "      <td>19069.967</td>\n",
       "      <td>0</td>\n",
       "      <td>2019</td>\n",
       "      <td>11</td>\n",
       "      <td>1</td>\n",
       "      <td>18</td>\n",
       "      <td>42</td>\n",
       "      <td>1</td>\n",
       "      <td>...</td>\n",
       "      <td>0</td>\n",
       "      <td>0</td>\n",
       "      <td>0</td>\n",
       "      <td>0</td>\n",
       "      <td>0</td>\n",
       "      <td>0</td>\n",
       "      <td>0</td>\n",
       "      <td>1</td>\n",
       "      <td>0</td>\n",
       "      <td>1</td>\n",
       "    </tr>\n",
       "    <tr>\n",
       "      <th>8</th>\n",
       "      <td>2019-11-01 21:05:23.910</td>\n",
       "      <td>2019-11-02</td>\n",
       "      <td>10476.090</td>\n",
       "      <td>0</td>\n",
       "      <td>2019</td>\n",
       "      <td>11</td>\n",
       "      <td>1</td>\n",
       "      <td>21</td>\n",
       "      <td>5</td>\n",
       "      <td>1</td>\n",
       "      <td>...</td>\n",
       "      <td>0</td>\n",
       "      <td>0</td>\n",
       "      <td>0</td>\n",
       "      <td>0</td>\n",
       "      <td>0</td>\n",
       "      <td>0</td>\n",
       "      <td>0</td>\n",
       "      <td>1</td>\n",
       "      <td>0</td>\n",
       "      <td>0</td>\n",
       "    </tr>\n",
       "    <tr>\n",
       "      <th>9</th>\n",
       "      <td>2019-11-01 15:46:58.780</td>\n",
       "      <td>2019-11-02</td>\n",
       "      <td>29581.220</td>\n",
       "      <td>0</td>\n",
       "      <td>2019</td>\n",
       "      <td>11</td>\n",
       "      <td>1</td>\n",
       "      <td>15</td>\n",
       "      <td>46</td>\n",
       "      <td>1</td>\n",
       "      <td>...</td>\n",
       "      <td>0</td>\n",
       "      <td>0</td>\n",
       "      <td>0</td>\n",
       "      <td>0</td>\n",
       "      <td>0</td>\n",
       "      <td>0</td>\n",
       "      <td>0</td>\n",
       "      <td>1</td>\n",
       "      <td>0</td>\n",
       "      <td>1</td>\n",
       "    </tr>\n",
       "  </tbody>\n",
       "</table>\n",
       "<p>10 rows × 26 columns</p>\n",
       "</div>"
      ],
      "text/plain": [
       "  datedecreationdecommande   dateexpe  delay_seconds  delay_days  year  month  \\\n",
       "0  2019-11-01 11:40:35.993 2019-11-02      44364.007           0  2019     11   \n",
       "1  2019-11-01 11:40:35.970 2019-11-02      44364.030           0  2019     11   \n",
       "2  2019-11-01 10:24:40.893 2019-11-02      48919.107           0  2019     11   \n",
       "3  2019-11-01 14:24:21.177 2019-11-02      34538.823           0  2019     11   \n",
       "4  2019-11-01 13:28:35.790 2019-11-02      37884.210           0  2019     11   \n",
       "5  2019-11-01 19:40:04.200 2019-11-02      15595.800           0  2019     11   \n",
       "6  2019-11-01 06:16:55.883 2019-11-02      63784.117           0  2019     11   \n",
       "7  2019-11-01 18:42:10.033 2019-11-02      19069.967           0  2019     11   \n",
       "8  2019-11-01 21:05:23.910 2019-11-02      10476.090           0  2019     11   \n",
       "9  2019-11-01 15:46:58.780 2019-11-02      29581.220           0  2019     11   \n",
       "\n",
       "   day  hour  min  isWeekend  ...  day_of_week_6  providerservice_id_5  \\\n",
       "0    1    11   40          1  ...              0                     0   \n",
       "1    1    11   40          1  ...              0                     0   \n",
       "2    1    10   24          1  ...              0                     0   \n",
       "3    1    14   24          1  ...              0                     0   \n",
       "4    1    13   28          1  ...              0                     0   \n",
       "5    1    19   40          1  ...              0                     0   \n",
       "6    1     6   16          1  ...              0                     0   \n",
       "7    1    18   42          1  ...              0                     0   \n",
       "8    1    21    5          1  ...              0                     0   \n",
       "9    1    15   46          1  ...              0                     0   \n",
       "\n",
       "   providerservice_id_7  providerservice_id_16  providerservice_id_20  \\\n",
       "0                     0                      0                      0   \n",
       "1                     0                      0                      0   \n",
       "2                     0                      0                      0   \n",
       "3                     0                      0                      0   \n",
       "4                     0                      0                      0   \n",
       "5                     0                      0                      0   \n",
       "6                     0                      0                      0   \n",
       "7                     0                      0                      0   \n",
       "8                     0                      0                      0   \n",
       "9                     0                      0                      0   \n",
       "\n",
       "   providerservice_id_21  providerservice_id_42  providerservice_id_48  \\\n",
       "0                      0                      0                      1   \n",
       "1                      0                      0                      1   \n",
       "2                      0                      0                      1   \n",
       "3                      0                      0                      1   \n",
       "4                      0                      0                      1   \n",
       "5                      0                      0                      1   \n",
       "6                      0                      0                      1   \n",
       "7                      0                      0                      1   \n",
       "8                      0                      0                      1   \n",
       "9                      0                      0                      1   \n",
       "\n",
       "   providerservice_id_92  isOnWorkShift  \n",
       "0                      0              1  \n",
       "1                      0              1  \n",
       "2                      0              1  \n",
       "3                      0              1  \n",
       "4                      0              1  \n",
       "5                      0              0  \n",
       "6                      0              0  \n",
       "7                      0              1  \n",
       "8                      0              0  \n",
       "9                      0              1  \n",
       "\n",
       "[10 rows x 26 columns]"
      ]
     },
     "execution_count": 232,
     "metadata": {},
     "output_type": "execute_result"
    }
   ],
   "source": [
    "df.head(10)"
   ]
  },
  {
   "cell_type": "markdown",
   "metadata": {},
   "source": [
    "## Step 2 : Process data for Modeling"
   ]
  },
  {
   "cell_type": "code",
   "execution_count": 233,
   "metadata": {},
   "outputs": [],
   "source": [
    "from sklearn.preprocessing import OneHotEncoder\n",
    "from sklearn.model_selection import train_test_split\n",
    "from sklearn.linear_model import LinearRegression\n",
    "from sklearn.metrics import accuracy_score as accuracy\n",
    "from sklearn.metrics import average_precision_score as precision"
   ]
  },
  {
   "cell_type": "code",
   "execution_count": 234,
   "metadata": {},
   "outputs": [],
   "source": [
    "X = df[[\"providerservice_id_5\",\"providerservice_id_7\",\"providerservice_id_16\",\"providerservice_id_20\",\"providerservice_id_21\",\"providerservice_id_42\",\"providerservice_id_48\",\"providerservice_id_92\",\"month\",\"day\",\"hour\",\"isWeekend\",\"isOnWorkShift\",\"day_of_week_0\",\"day_of_week_1\",\"day_of_week_2\",\"day_of_week_3\",\"day_of_week_4\",\"day_of_week_5\",\"day_of_week_6\"]]\n",
    "y = df['delay_days']\n",
    "X_train, X_test, y_train, y_test = train_test_split(\n",
    "   X, y, test_size=0.20)"
   ]
  },
  {
   "cell_type": "markdown",
   "metadata": {},
   "source": [
    "## Step 3 : Modeling"
   ]
  },
  {
   "cell_type": "code",
   "execution_count": 235,
   "metadata": {},
   "outputs": [
    {
     "data": {
      "text/plain": [
       "0.6990695550162537"
      ]
     },
     "execution_count": 235,
     "metadata": {},
     "output_type": "execute_result"
    }
   ],
   "source": [
    "from sklearn.ensemble import RandomForestClassifier\n",
    "clf = RandomForestClassifier(random_state=0) \n",
    "clf.fit(X, y)\n",
    "clf_pred = clf.predict(X_test) \n",
    "clf_score = clf.score(X_test,y_test)\n",
    "clf_score"
   ]
  },
  {
   "cell_type": "code",
   "execution_count": 236,
   "metadata": {},
   "outputs": [
    {
     "data": {
      "text/plain": [
       "0.3004502568462436"
      ]
     },
     "execution_count": 236,
     "metadata": {},
     "output_type": "execute_result"
    }
   ],
   "source": [
    "from sklearn.linear_model import LinearRegression\n",
    "linearReg = LinearRegression(fit_intercept=True)\n",
    "linearReg.fit(X_train, y_train)\n",
    "linearReg_pred = linearReg.predict(X_test)\n",
    "linearReg_score = linearReg.score(X_test,y_test)\n",
    "linearReg_score"
   ]
  },
  {
   "cell_type": "code",
   "execution_count": 237,
   "metadata": {},
   "outputs": [
    {
     "data": {
      "text/plain": [
       "0.7406449825176592"
      ]
     },
     "execution_count": 237,
     "metadata": {},
     "output_type": "execute_result"
    }
   ],
   "source": [
    "from sklearn.ensemble import BaggingRegressor\n",
    "bagging = BaggingRegressor(random_state=0)\n",
    "bagging.fit(X_train, y_train)\n",
    "bagging_pred = bagging.predict(X_test)\n",
    "bagging_score = bagging.score(X_test,y_test)\n",
    "bagging_score"
   ]
  },
  {
   "cell_type": "code",
   "execution_count": 238,
   "metadata": {},
   "outputs": [
    {
     "data": {
      "text/plain": [
       "0.7407003483753636"
      ]
     },
     "execution_count": 238,
     "metadata": {},
     "output_type": "execute_result"
    }
   ],
   "source": [
    "from sklearn.tree import DecisionTreeRegressor\n",
    "simple_tree = DecisionTreeRegressor(random_state=0) \n",
    "simple_tree.fit(X_train, y_train)\n",
    "simple_tree_pred = simple_tree.predict(X_test)\n",
    "simple_tree_score = simple_tree.score(X_test,y_test)\n",
    "simple_tree_score"
   ]
  },
  {
   "cell_type": "code",
   "execution_count": 240,
   "metadata": {},
   "outputs": [
    {
     "name": "stdout",
     "output_type": "stream",
     "text": [
      "For an order from he provider 48, the 27th of November at 23:00 which is a Tuesday, the shipment delay is predicted 1.51\n"
     ]
    }
   ],
   "source": [
    "#\"providerservice_id\",\"month\",\"day\",\"hour\",\"isWeekend\",\"isOnWorkShift\",\"day_of_week_0\",\"day_of_week_1\",\"day_of_week_2\",\"day_of_week_3\",\"day_of_week_4\",\"day_of_week_5\",\"day_of_week_6\"\n",
    "print(\"For an order from he provider 48, the 27th of November at 23:00 which is a Tuesday, the shipment delay is predicted \"+str(round(simple_tree.predict([[0,0,0,0,0,0,1,0,11,27,23,0,1,0,1,0,0,0,0,0]])[0],2)))"
   ]
  }
 ],
 "metadata": {
  "kernelspec": {
   "display_name": "Python 3",
   "language": "python",
   "name": "python3"
  },
  "language_info": {
   "codemirror_mode": {
    "name": "ipython",
    "version": 3
   },
   "file_extension": ".py",
   "mimetype": "text/x-python",
   "name": "python",
   "nbconvert_exporter": "python",
   "pygments_lexer": "ipython3",
   "version": "3.8.8"
  }
 },
 "nbformat": 4,
 "nbformat_minor": 4
}
